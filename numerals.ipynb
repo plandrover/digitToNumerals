{
 "cells": [
  {
   "cell_type": "code",
   "execution_count": 2,
   "metadata": {},
   "outputs": [],
   "source": [
    "#create a function that converts integers into roman numerals\n",
    "#  I\tV\tX\tL\tC\tD\tM\n",
    "#  1\t5\t10\t50\t100\t500\t1000\n"
   ]
  },
  {
   "cell_type": "code",
   "execution_count": 461,
   "metadata": {},
   "outputs": [],
   "source": [
    "def yyy(x):\n",
    "    numbers = [1, 5, 10, 50, 100,500,1000]\n",
    "    roman = ['I', 'V', 'X', 'L', 'C','D','M']\n",
    "    conversion = []\n",
    "    for i in reversed(range(0, len(numbers))):\n",
    "        #see how many times current number fits into input\n",
    "        multiplier = x//numbers[i]\n",
    "        \n",
    "        if multiplier != 0:\n",
    "            if multiplier == 4 and numbers[i] != 1000:\n",
    "#                 check if last is present in the list\n",
    "                if roman[i+1] == conversion[-1]:\n",
    "                    conversion[-1]= roman[i]+ roman[i+2]\n",
    "                else:\n",
    "                    conversion.append(roman[i]+ roman[i+1])\n",
    "            else:\n",
    "                conversion.append(roman[i]*multiplier)\n",
    "            x = x -(numbers[i]*multiplier)\n",
    "        else:\n",
    "            continue\n",
    "            \n",
    "    result = ''.join(str(e) for e in conversion)\n",
    "    print(result)"
   ]
  },
  {
   "cell_type": "code",
   "execution_count": 464,
   "metadata": {},
   "outputs": [
    {
     "name": "stdout",
     "output_type": "stream",
     "text": [
      "MMMMCDIII\n"
     ]
    }
   ],
   "source": [
    "yyy(4403)"
   ]
  },
  {
   "cell_type": "code",
   "execution_count": null,
   "metadata": {},
   "outputs": [],
   "source": []
  }
 ],
 "metadata": {
  "kernelspec": {
   "display_name": "Python 3",
   "language": "python",
   "name": "python3"
  },
  "language_info": {
   "codemirror_mode": {
    "name": "ipython",
    "version": 3
   },
   "file_extension": ".py",
   "mimetype": "text/x-python",
   "name": "python",
   "nbconvert_exporter": "python",
   "pygments_lexer": "ipython3",
   "version": "3.8.3"
  }
 },
 "nbformat": 4,
 "nbformat_minor": 4
}
